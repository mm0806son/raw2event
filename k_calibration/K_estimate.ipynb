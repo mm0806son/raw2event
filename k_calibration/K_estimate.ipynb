{
 "cells": [
  {
   "cell_type": "markdown",
   "metadata": {},
   "source": [
    "# 0. Read and prepare data"
   ]
  },
  {
   "cell_type": "code",
   "execution_count": null,
   "metadata": {},
   "outputs": [],
   "source": [
    "import numpy as np\n",
    "import pandas as pd\n",
    "import matplotlib.pyplot as plt\n",
    "from matplotlib.lines import Line2D\n",
    "from sklearn.linear_model import LinearRegression\n",
    "from scipy.optimize import curve_fit\n",
    "\n",
    "df = pd.read_csv('synthetic_fit_results.csv')\n",
    "df[\"Lbar\"] = (df[\"MeanMin\"] + df[\"MeanMax\"])/2\n",
    "df[\"dL\"]   = (df[\"DiffMin\"] + df[\"DiffMax\"])/2\n",
    "dt = 16667\n",
    "df['kdL']  = df['dL'] / dt\n",
    "w = df[\"Count\"].astype(float)                # number of data\n",
    "df\n",
    "\n"
   ]
  },
  {
   "cell_type": "markdown",
   "metadata": {},
   "source": [
    "# 1. Regression for each $\\bar{L}$ (1st Regression)"
   ]
  },
  {
   "cell_type": "code",
   "execution_count": null,
   "metadata": {},
   "outputs": [],
   "source": [
    "records = []\n",
    "for (p, Lbar_bin), df_bin in df.groupby(['P', 'Lbar']):\n",
    "    if len(df_bin) < 5:          # skip if less than 5 data\n",
    "        continue\n",
    "\n",
    "    df_fit = df_bin\n",
    "    if df_fit.empty:\n",
    "        continue\n",
    "\n",
    "    lin1 = LinearRegression()\n",
    "    lin1.fit(df_fit[['kdL']], df_fit['Mu'],\n",
    "             sample_weight=df_fit['Count'])\n",
    "\n",
    "    a, b = lin1.coef_[0], lin1.intercept_\n",
    "    records.append([p, Lbar_bin, a, b, df_fit['Count'].sum()])\n",
    "ab = pd.DataFrame(records, columns=[\"P\",\"Lbar\",\"a\",\"b\",\"Count\"])\n",
    "print(ab)"
   ]
  },
  {
   "cell_type": "code",
   "execution_count": null,
   "metadata": {},
   "outputs": [],
   "source": [
    "plt.figure(figsize=(10, 6))\n",
    "\n",
    "# Set colors and markers\n",
    "colors = {1: 'red', 0: 'blue', -1: 'green'}\n",
    "markers = {1: 'o', 0: 's', -1: '^'}\n",
    "\n",
    "# Draw scatter plot\n",
    "for p in ab['P'].unique():\n",
    "    mask = ab['P'] == p\n",
    "    plt.scatter(ab[mask]['Lbar'], \n",
    "                1/ab[mask]['a'],\n",
    "                c=colors[p],\n",
    "                marker=markers[p],\n",
    "                s=ab[mask]['Count']/ab['Count'].max()*300,  # Adjust point size based on number of data\n",
    "                alpha=0.6,\n",
    "                label=f'P={p}')\n",
    "\n",
    "plt.xlabel(r'$\\bar{L}$')\n",
    "plt.ylabel('a')\n",
    "plt.title('Lbar vs a by Polarity')\n",
    "plt.grid(True, linestyle='--', alpha=0.7)\n",
    "plt.legend()\n",
    "plt.tight_layout()\n",
    "plt.show()"
   ]
  },
  {
   "cell_type": "code",
   "execution_count": null,
   "metadata": {},
   "outputs": [],
   "source": [
    "fig, ax = plt.subplots()\n",
    "color_map = {1: 'red', 0: 'blue', -1: 'blue'}\n",
    "Lbar_save=0\n",
    "\n",
    "for Lbar_bin, df_bin in df.groupby(\"Lbar\"):\n",
    "    if len(df_bin) < 5:\n",
    "        continue\n",
    "    # retrieve slope and intercept from ab DataFrame\n",
    "    a = ab.loc[ab[\"Lbar\"] == Lbar_bin, \"a\"].values[0]\n",
    "    b = ab.loc[ab[\"Lbar\"] == Lbar_bin, \"b\"].values[0]\n",
    "    \n",
    "    # plot the raw data points\n",
    "    for p, df_p in df_bin.groupby(\"P\"):\n",
    "        color = color_map.get(p, \"gray\") \n",
    "        ax.scatter(df_p[\"kdL\"], df_p[\"Mu\"], alpha=0.5)\n",
    "\n",
    "    \n",
    "    # compute and plot the regression line\n",
    "    x_vals = np.linspace(df_bin[\"kdL\"].min(), df_bin[\"kdL\"].max(), 100)\n",
    "    y_vals = a * x_vals + b\n",
    "    ax.plot(x_vals, y_vals, label=f\"Lbar={Lbar_bin}\")\n",
    "\n",
    "\n",
    "ax.set_xlabel(\"kdL\")\n",
    "ax.set_ylabel(\"Mu\")\n",
    "ax.set_title(\"Linear Regression Fits by Lbar Bin\")\n",
    "ax.legend(loc='upper left')\n",
    "plt.show()\n"
   ]
  },
  {
   "cell_type": "markdown",
   "metadata": {},
   "source": [
    "# 2. Use $a^{-1}$ to fit $k_1$,$k_2$ (2nd Regression)"
   ]
  },
  {
   "cell_type": "code",
   "execution_count": null,
   "metadata": {},
   "outputs": [],
   "source": [
    "fit2_result = {}\n",
    "for p, df_pol in ab.groupby('P'):\n",
    "    # ab[\"inv_a_dt\"] = 1/(ab[\"a\"]*dt)\n",
    "    df_pol[\"inv_a\"] = 1/df_pol[\"a\"]\n",
    "    lin2 = LinearRegression()\n",
    "    x_hat2 = df_pol[[\"Lbar\"]]\n",
    "    y_hat2 = df_pol[\"inv_a\"]\n",
    "    lin2.fit(x_hat2, y_hat2, sample_weight=df_pol[\"Count\"])\n",
    "\n",
    "    k1 = 1/lin2.coef_[0]\n",
    "    k2 = lin2.intercept_ * k1\n",
    "    fit2_result[p] = (k1, k2)\n",
    "    print(f\"k1_{p}={k1:.3e},  k2_{p}={k2:.3e}\")\n",
    "\n",
    "    plt.figure(figsize=(8,6))\n",
    "    sizes = df_pol[\"Count\"] / df_pol[\"Count\"].max() * 300  \n",
    "\n",
    "    # Draw scatter plot\n",
    "    plt.scatter(x_hat2, y_hat2, s=sizes, alpha=.7,\n",
    "                label=\"data points\", color='tab:blue')\n",
    "\n",
    "    # Draw fitting line\n",
    "    x_line = np.linspace(ab[\"Lbar\"].min(), ab[\"Lbar\"].max(), 200)\n",
    "    y_line = (1/k1)*x_line + k2/k1\n",
    "    plt.plot(x_line, y_line, 'r', lw=2)\n",
    "\n",
    "    # Set plot style\n",
    "    plt.xlabel(r\"$\\bar L$\")\n",
    "    plt.ylabel(r\"$1/a$\")\n",
    "    plt.title(\"2nd Regression\")\n",
    "    plt.grid(ls='--', alpha=.4)\n",
    "    plt.legend(bbox_to_anchor=(1.05, 1), loc='upper left')\n",
    "    plt.tight_layout()\n",
    "    plt.show()"
   ]
  },
  {
   "cell_type": "code",
   "execution_count": null,
   "metadata": {},
   "outputs": [],
   "source": [
    "plt.figure(figsize=(8,6))\n",
    "sizes = ab[\"Count\"] / ab[\"Count\"].max() * 300 \n",
    "\n",
    "# Draw scatter plot\n",
    "plt.scatter(x_hat2, y_hat2, s=sizes, alpha=.7,\n",
    "            label=\"data points\", color='tab:blue')\n",
    "\n",
    "# Draw fitting line\n",
    "x_line = np.linspace(ab[\"Lbar\"].min(), ab[\"Lbar\"].max(), 200)\n",
    "y_line = (1/k1)*x_line + k2/k1\n",
    "plt.plot(x_line, y_line, 'r', lw=2)\n",
    "\n",
    "# Set plot style\n",
    "plt.xlabel(r\"$\\bar L$\")\n",
    "plt.ylabel(r\"$1/a$\")\n",
    "plt.title(\"2nd Regression\")\n",
    "plt.grid(ls='--', alpha=.4)\n",
    "plt.legend(bbox_to_anchor=(1.05, 1), loc='upper left')\n",
    "plt.tight_layout()\n",
    "plt.show()"
   ]
  },
  {
   "cell_type": "markdown",
   "metadata": {},
   "source": [
    "# 3. Fit $k_4$, $k_5$ and cross-validate $k_1$ (3rd Regression)"
   ]
  },
  {
   "cell_type": "code",
   "execution_count": null,
   "metadata": {},
   "outputs": [],
   "source": [
    "fit3_results = {}  # 保存各极性的 (k1, k4, k5)\n",
    "df = df.merge(ab[[\"Lbar\",\"a\",\"b\"]], on=\"Lbar\", how=\"inner\")\n",
    "for p, df_pol in df.groupby('P'):\n",
    "    df_pol[\"c\"] = df_pol[\"kdL\"] / (df_pol[\"Lbar\"] + k2)\n",
    "    x_hat3 = df_pol[[\"c\",\"Lbar\"]]\n",
    "    y_hat3 = df_pol[\"Mu\"]\n",
    "    lin3 = LinearRegression()\n",
    "    lin3.fit(x_hat3, y_hat3, sample_weight=df_pol[\"Count\"])\n",
    "\n",
    "    k1_check, k5 = lin3.coef_\n",
    "    k4 = lin3.intercept_\n",
    "    fit3_results[p] = (k1_check, k4, k5)\n",
    "    print(f\"k1_check_{p}={k1_check:.3e}, k4_{p}={k4:.3e}, k5_{p}={k5:.3e}\")"
   ]
  },
  {
   "cell_type": "code",
   "execution_count": null,
   "metadata": {},
   "outputs": [],
   "source": [
    "# --- Visualize b = k1·c + k5·L̄ + k4 ---\n",
    "from mpl_toolkits.mplot3d import Axes3D\n",
    "from matplotlib import cm\n",
    "\n",
    "fig = plt.figure(figsize=(7,5))\n",
    "ax = fig.add_subplot(111, projection='3d')\n",
    "\n",
    "for p, df_pol in df.groupby(\"P\"):\n",
    "    df_pol = df_pol.copy()\n",
    "    k1, k4, k5 = fit3_results[p]\n",
    "    k2_pol = fit2_result[p][1]\n",
    "    \n",
    "    df_pol[\"c\"] = df_pol[\"kdL\"] / (df_pol[\"Lbar\"] + k2_pol)\n",
    "    \n",
    "    # --- Plots ---\n",
    "    color = 'red' if p == 1 else 'blue'\n",
    "    ax.scatter(df_pol[\"c\"], df_pol[\"Lbar\"], df_pol[\"Mu\"],\n",
    "               color=color, s=df_pol[\"Count\"]/df_pol[\"Count\"].max()*50,\n",
    "               alpha=0.7, label=f\"{p} events\")\n",
    "\n",
    "    # --- Surface ---\n",
    "    c_span = np.linspace(df_pol[\"c\"].min(), df_pol[\"c\"].max(), 30)\n",
    "    L_span = np.linspace(df_pol[\"Lbar\"].min(), df_pol[\"Lbar\"].max(), 30)\n",
    "    C, L = np.meshgrid(c_span, L_span)\n",
    "    B = k1 * C + k5 * L + k4\n",
    "    ax.plot_surface(C, L, B, color=color, alpha=0.25, edgecolor='none')\n",
    "\n",
    "ax.set_xlabel(r\"$c=k_{dL}/(\\bar L+k_2)$\")\n",
    "ax.set_ylabel(r\"$\\bar L$\")\n",
    "ax.set_zlabel(\"$\\mu$\")\n",
    "ax.set_title(\"Third regression surface\")\n",
    "\n",
    "ax.view_init(elev=25, azim=45)\n",
    "plt.tight_layout()\n",
    "plt.show()\n"
   ]
  }
 ],
 "metadata": {
  "kernelspec": {
   "display_name": "DVS-Voltmeter",
   "language": "python",
   "name": "python3"
  },
  "language_info": {
   "codemirror_mode": {
    "name": "ipython",
    "version": 3
   },
   "file_extension": ".py",
   "mimetype": "text/x-python",
   "name": "python",
   "nbconvert_exporter": "python",
   "pygments_lexer": "ipython3",
   "version": "3.11.10"
  }
 },
 "nbformat": 4,
 "nbformat_minor": 2
}
