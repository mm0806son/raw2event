{
 "cells": [
  {
   "cell_type": "code",
   "execution_count": 1,
   "metadata": {},
   "outputs": [
    {
     "name": "stdout",
     "output_type": "stream",
     "text": [
      "     MeanMin    MeanMax    DiffMin    DiffMax            Mu     Sigma  Count\n",
      "0  63.559207  64.559207   6.647608   7.647608  2.658068e-05  0.028711   1143\n",
      "1  63.559207  64.559207 -24.666373 -23.666373 -8.157852e-05  0.028711    692\n",
      "2  63.559207  64.559207  -0.589083   0.410917  1.015331e-07  0.028711   1910\n",
      "3  63.559207  64.559207  12.629499  13.629499  4.473774e-05  0.028711   1464\n",
      "4  63.559207  64.559207 -26.267229 -25.267229 -8.754300e-05  0.028711   1341\n"
     ]
    }
   ],
   "source": [
    "import numpy as np\n",
    "import pandas as pd\n",
    "\n",
    "# --- model parameters --------------------------------------------------------\n",
    "k1_true, k2_true, k4_true, k5_true = 5, 20, 1e-7, 5e-9\n",
    "dt_const = 16_667          # ms  (≈ 60 Hz)\n",
    "\n",
    "# --- synthetic‑data design ----------------------------------------------------\n",
    "rng = np.random.default_rng(0)\n",
    "\n",
    "num_Lbar          = 50    # unique L̅ levels you want in the data set\n",
    "num_dL_per_Lbar   = 50     # ΔL draws you want *for each* L̅\n",
    "Lbar_values       = rng.uniform(1, 100, num_Lbar)      # shape = (num_Lbar,)\n",
    "\n",
    "# --- generate ----------------------------------------------------------------\n",
    "rows = []\n",
    "for Lbar in Lbar_values:\n",
    "    # constants that depend only on this L̅\n",
    "    a   = k1_true / (Lbar + k2_true)\n",
    "    b   = k5_true * Lbar + k4_true\n",
    "\n",
    "    # draw ΔL replicas for this L̅\n",
    "    dL  = rng.normal(0, 20, num_dL_per_Lbar)\n",
    "    k_dL = dL / dt_const\n",
    "\n",
    "    μ = a * k_dL + b\n",
    "    μ += rng.normal(0, 0.05 * np.abs(μ))              # 5 % noise\n",
    "\n",
    "    σ = 0.3 / (Lbar + k2_true) * np.sqrt(Lbar) + 0.001\n",
    "    σ += rng.normal(0, 0.1 * σ)                       # 10 % noise on σ\n",
    "\n",
    "    count = rng.integers(200, 2000, num_dL_per_Lbar)\n",
    "\n",
    "    rows.append(\n",
    "        pd.DataFrame(\n",
    "            {\n",
    "                \"MeanMin\":  Lbar - 0.5,\n",
    "                \"MeanMax\":  Lbar + 0.5,\n",
    "                \"DiffMin\":  dL   - 0.5,\n",
    "                \"DiffMax\":  dL   + 0.5,\n",
    "                \"Mu\":       μ,\n",
    "                \"Sigma\":    σ,\n",
    "                \"Count\":    count,\n",
    "            }\n",
    "        )\n",
    "    )\n",
    "\n",
    "synthetic_df = pd.concat(rows, ignore_index=True)\n",
    "synthetic_df.to_csv(\"synthetic_fit_results.csv\", index=False)\n",
    "\n",
    "print(synthetic_df.head())\n"
   ]
  }
 ],
 "metadata": {
  "kernelspec": {
   "display_name": "DVS-Voltmeter",
   "language": "python",
   "name": "python3"
  },
  "language_info": {
   "codemirror_mode": {
    "name": "ipython",
    "version": 3
   },
   "file_extension": ".py",
   "mimetype": "text/x-python",
   "name": "python",
   "nbconvert_exporter": "python",
   "pygments_lexer": "ipython3",
   "version": "3.11.10"
  }
 },
 "nbformat": 4,
 "nbformat_minor": 2
}
